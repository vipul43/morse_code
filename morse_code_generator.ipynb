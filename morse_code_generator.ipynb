{
 "cells": [
  {
   "cell_type": "code",
   "execution_count": 124,
   "metadata": {},
   "outputs": [],
   "source": [
    "#dot is '.'\n",
    "#dash is '_'\n",
    "\n",
    "class Tree():\n",
    "    def __init__(self, char, crypt):\n",
    "        self.char=char\n",
    "        self.crypt=crypt\n",
    "        self.left=None\n",
    "        self.right=None\n",
    "    def __str__(self):\n",
    "        return \"node: {}|crypt: {}\".format(self.char, self.crypt)\n",
    "    def PrintTree(self):\n",
    "        if self.left:\n",
    "            self.left.PrintTree()\n",
    "        print( \"node: {}|crypt: {}\".format(self.char, self.crypt))\n",
    "        if self.right:\n",
    "            self.right.PrintTree()\n",
    "#level order creation of tree \n",
    "def creatTree(st, root, i, n):\n",
    "    if(i<n):\n",
    "        root=Tree(st[i], crypt[i])\n",
    "        root.char=st[i]\n",
    "        root.crypt=crypt[i]\n",
    "        root.left=create_tree(st, root.left, 2*i+1, n)\n",
    "        root.right=create_tree(st, root.right, 2*i+2, n)\n",
    "    return root\n",
    "def searchTree_given_char(node, ch):\n",
    "    if(node==None):  \n",
    "        return None\n",
    "    if(node.char==ch):  \n",
    "        return node.crypt\n",
    "    res1 = searchTree_given_char(node.left, ch)  \n",
    "    if res1: \n",
    "        return res1\n",
    "    res2 = searchTree_given_char(node.right, ch)  \n",
    "    return res2 \n",
    "def searchTree_given_morse(node, mor):\n",
    "    if(node==None):  \n",
    "        return None\n",
    "    if(node.crypt==mor):  \n",
    "        return node.char\n",
    "    res1 = searchTree_given_morse(node.left, mor)  \n",
    "    if res1: \n",
    "        return res1\n",
    "    res2 = searchTree_given_morse(node.right, mor)  \n",
    "    return res2 \n",
    "def remove_blanks(st):\n",
    "    for ch in st:\n",
    "        if ch==' ':\n",
    "            st.remove(ch)\n",
    "st=' ETIANMSURWDKGOHVF L PJBXCYZQ'\n",
    "crypt=['',                                                                                           #level-1\n",
    "       '.','_',                                                                                      #level-2\n",
    "       '..','._','_.','__',                                                                          #level-3\n",
    "       '...','.._','._.','.__','_..','_._','__.','___',                                              #level-4\n",
    "       '....','..._','.._.','','._..','','.__.','.___','_...','_.._','_._.','_.__','__..','__._']    #level-5\n",
    "root=None\n",
    "root=create_tree(st, root, 0, 29)\n",
    "# root.PrintTree()"
   ]
  },
  {
   "cell_type": "code",
   "execution_count": 128,
   "metadata": {},
   "outputs": [
    {
     "name": "stdout",
     "output_type": "stream",
     "text": [
      "_ .... .. ... .. ... ... ___ .._. .._ _. \n"
     ]
    }
   ],
   "source": [
    "message='THISISSOFUN'\n",
    "encrypted=''\n",
    "for ch in message:\n",
    "    crypt=searchTree_given_char(root, ch)\n",
    "    encrypted+=crypt+' '\n",
    "print(encrypted)"
   ]
  },
  {
   "cell_type": "code",
   "execution_count": 129,
   "metadata": {},
   "outputs": [
    {
     "name": "stdout",
     "output_type": "stream",
     "text": [
      "T H I S I S S O F U N \n"
     ]
    }
   ],
   "source": [
    "decrypted=''\n",
    "encrypted_list=encrypted.split()\n",
    "for ch in encrypted_list:\n",
    "    crypt=searchTree_given_morse(root, ch)\n",
    "    decrypted+=(crypt+' ')\n",
    "print(decrypted)"
   ]
  },
  {
   "cell_type": "code",
   "execution_count": null,
   "metadata": {},
   "outputs": [],
   "source": []
  }
 ],
 "metadata": {
  "kernelspec": {
   "display_name": "Python 3",
   "language": "python",
   "name": "python3"
  },
  "language_info": {
   "codemirror_mode": {
    "name": "ipython",
    "version": 3
   },
   "file_extension": ".py",
   "mimetype": "text/x-python",
   "name": "python",
   "nbconvert_exporter": "python",
   "pygments_lexer": "ipython3",
   "version": "3.7.4"
  }
 },
 "nbformat": 4,
 "nbformat_minor": 2
}
