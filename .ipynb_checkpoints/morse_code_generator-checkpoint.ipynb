{
 "cells": [
  {
   "cell_type": "code",
   "execution_count": 123,
   "metadata": {},
   "outputs": [
    {
     "name": "stdout",
     "output_type": "stream",
     "text": [
      "None\n"
     ]
    }
   ],
   "source": [
    "#dot is '.'\n",
    "#dash is '_'\n",
    "\n",
    "class Tree():\n",
    "    def __init__(self, char, crypt):\n",
    "        self.char=char\n",
    "        self.crypt=crypt\n",
    "        self.left=None\n",
    "        self.right=None\n",
    "    def __str__(self):\n",
    "        return \"node: {}|crypt: {}\".format(self.char, self.crypt)\n",
    "    def PrintTree(self):\n",
    "        if self.left:\n",
    "            self.left.PrintTree()\n",
    "        print( \"node: {}|crypt: {}\".format(self.char, self.crypt))\n",
    "        if self.right:\n",
    "            self.right.PrintTree()\n",
    "#level order creation of tree \n",
    "def creatTree(st, root, i, n):\n",
    "    if(i<n):\n",
    "        root=Tree(st[i], crypt[i])\n",
    "        root.char=st[i]\n",
    "        root.crypt=crypt[i]\n",
    "        root.left=create_tree(st, root.left, 2*i+1, n)\n",
    "        root.right=create_tree(st, root.right, 2*i+2, n)\n",
    "    return root\n",
    "def searchTree_given_char(node, ch):\n",
    "    if(node==None):  \n",
    "        return None\n",
    "    if(node.char==ch):  \n",
    "        return node.crypt\n",
    "    res1 = searchTree_given_char(node.left, ch)  \n",
    "    if res1: \n",
    "        return res1\n",
    "    res2 = searchTree_given_char(node.right, ch)  \n",
    "    return res2 \n",
    "def searchTree_given_morse(node, mor):\n",
    "    if(node==None):  \n",
    "        return None\n",
    "    if(node.crypt==mor):  \n",
    "        return node.char\n",
    "    res1 = searchTree_given_morse(node.left, mor)  \n",
    "    if res1: \n",
    "        return res1\n",
    "    res2 = searchTree_given_morse(node.right, mor)  \n",
    "    return res2 \n",
    "def remove_blanks(st):\n",
    "    for ch in st:\n",
    "        if ch==' ':\n",
    "            st.remove(ch)\n",
    "st=' ETIANMSURWDKGOHVF L PJBXCYZQ'\n",
    "crypt=['',                                                                                           #level-1\n",
    "       '.','_',                                                                                      #level-2\n",
    "       '..','._','_.','__',                                                                          #level-3\n",
    "       '...','.._','._.','.__','_..','_._','__.','___',                                              #level-4\n",
    "       '....','..._','.._.','','._..','','.__.','.___','_...','_.._','_._.','_.__','__..','__._']    #level-5\n",
    "root=None\n",
    "root=create_tree(st, root, 0, 29)\n",
    "# root.PrintTree()"
   ]
  },
  {
   "cell_type": "code",
   "execution_count": 115,
   "metadata": {},
   "outputs": [
    {
     "name": "stdout",
     "output_type": "stream",
     "text": [
      ".... . ._. . \n"
     ]
    }
   ],
   "source": [
    "message='HERE'\n",
    "encrypted=''\n",
    "for ch in message:\n",
    "    crypt=searchTree_given_char(root, ch)\n",
    "    encrypted+=crypt+' '\n",
    "print(encrypted)"
   ]
  },
  {
   "cell_type": "code",
   "execution_count": 117,
   "metadata": {},
   "outputs": [
    {
     "name": "stdout",
     "output_type": "stream",
     "text": [
      "None\n"
     ]
    },
    {
     "ename": "TypeError",
     "evalue": "unsupported operand type(s) for +: 'NoneType' and 'str'",
     "output_type": "error",
     "traceback": [
      "\u001b[0;31m---------------------------------------------------------------------------\u001b[0m",
      "\u001b[0;31mTypeError\u001b[0m                                 Traceback (most recent call last)",
      "\u001b[0;32m<ipython-input-117-d82a7a74cc66>\u001b[0m in \u001b[0;36m<module>\u001b[0;34m\u001b[0m\n\u001b[1;32m      4\u001b[0m     \u001b[0mcrypt\u001b[0m\u001b[0;34m=\u001b[0m\u001b[0msearchTree_given_morse\u001b[0m\u001b[0;34m(\u001b[0m\u001b[0mroot\u001b[0m\u001b[0;34m,\u001b[0m \u001b[0mch\u001b[0m\u001b[0;34m)\u001b[0m\u001b[0;34m\u001b[0m\u001b[0;34m\u001b[0m\u001b[0m\n\u001b[1;32m      5\u001b[0m     \u001b[0mprint\u001b[0m\u001b[0;34m(\u001b[0m\u001b[0mcrypt\u001b[0m\u001b[0;34m)\u001b[0m\u001b[0;34m\u001b[0m\u001b[0;34m\u001b[0m\u001b[0m\n\u001b[0;32m----> 6\u001b[0;31m     \u001b[0mdecrypted\u001b[0m\u001b[0;34m+=\u001b[0m\u001b[0;34m(\u001b[0m\u001b[0mcrypt\u001b[0m\u001b[0;34m+\u001b[0m\u001b[0;34m' '\u001b[0m\u001b[0;34m)\u001b[0m\u001b[0;34m\u001b[0m\u001b[0;34m\u001b[0m\u001b[0m\n\u001b[0m\u001b[1;32m      7\u001b[0m \u001b[0mprint\u001b[0m\u001b[0;34m(\u001b[0m\u001b[0mdecrypted\u001b[0m\u001b[0;34m)\u001b[0m\u001b[0;34m\u001b[0m\u001b[0;34m\u001b[0m\u001b[0m\n",
      "\u001b[0;31mTypeError\u001b[0m: unsupported operand type(s) for +: 'NoneType' and 'str'"
     ]
    }
   ],
   "source": [
    "decrypted=''\n",
    "encrypted_list=encrypted.split()\n",
    "for ch in encrypted_list:\n",
    "    crypt=searchTree_given_morse(root, ch)\n",
    "    print(crypt)\n",
    "    decrypted+=(crypt+' ')\n",
    "print(decrypted)"
   ]
  },
  {
   "cell_type": "code",
   "execution_count": null,
   "metadata": {},
   "outputs": [],
   "source": []
  }
 ],
 "metadata": {
  "kernelspec": {
   "display_name": "Python 3",
   "language": "python",
   "name": "python3"
  },
  "language_info": {
   "codemirror_mode": {
    "name": "ipython",
    "version": 3
   },
   "file_extension": ".py",
   "mimetype": "text/x-python",
   "name": "python",
   "nbconvert_exporter": "python",
   "pygments_lexer": "ipython3",
   "version": "3.7.4"
  }
 },
 "nbformat": 4,
 "nbformat_minor": 2
}
