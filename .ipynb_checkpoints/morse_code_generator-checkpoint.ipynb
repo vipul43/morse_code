{
 "cells": [
  {
   "cell_type": "code",
   "execution_count": 58,
   "metadata": {},
   "outputs": [],
   "source": [
    "#dot is '.'\n",
    "#dash is '_'\n",
    "\n",
    "class Tree():\n",
    "    def __init__(self, char, crypt):\n",
    "        self.char=char\n",
    "        self.crypt=crypt\n",
    "        self.left=None\n",
    "        self.right=None\n",
    "    def __str__(self):\n",
    "        return \"node: {}|crypt: {}\".format(self.char, self.crypt)\n",
    "#level order creation of tree \n",
    "def create_tree(st, root, i, n):\n",
    "    if(i<n):\n",
    "        root=Tree(st[i], crypt[i])\n",
    "        root.char=st[i]\n",
    "        root.crypt=crypt[i]\n",
    "        root.left=create_tree(st, root.left, 2*i+1, n)\n",
    "        root.right=create_tree(st, root.right, 2*i+2, n)\n",
    "    return root\n",
    "\n",
    "st=' ETIANMSURWDKGOHVF L PJBXCYZQ'\n",
    "crypt=['',                                                                                           #level-1\n",
    "       '.','_',                                                                                      #level-2\n",
    "       '..','._','_.','__',                                                                          #level-3\n",
    "       '...','.._','._.','.__','_..','_._','__.','___',                                              #level-4\n",
    "       '....','..._','.._.','','._..','','.__.','.___','_...','_.._','_._.','_.__','__..','__._']    #level-5\n",
    "root=None\n",
    "root=create_tree(st, root, 0, 29)\n"
   ]
  },
  {
   "cell_type": "code",
   "execution_count": 60,
   "metadata": {},
   "outputs": [
    {
     "name": "stdout",
     "output_type": "stream",
     "text": [
      "node:  |crypt: \n",
      "node: E|crypt: .\n",
      "node: T|crypt: _\n",
      "node: I|crypt: ..\n",
      "node: A|crypt: ._\n",
      "node: N|crypt: _.\n",
      "node: M|crypt: __\n"
     ]
    }
   ],
   "source": [
    "print(root)\n",
    "print(root.left)\n",
    "print(root.right)\n",
    "print(root.left.left)\n",
    "print(root.left.right)\n",
    "print(root.right.left)\n",
    "print(root.right.right)\n"
   ]
  }
 ],
 "metadata": {
  "kernelspec": {
   "display_name": "Python 3",
   "language": "python",
   "name": "python3"
  },
  "language_info": {
   "codemirror_mode": {
    "name": "ipython",
    "version": 3
   },
   "file_extension": ".py",
   "mimetype": "text/x-python",
   "name": "python",
   "nbconvert_exporter": "python",
   "pygments_lexer": "ipython3",
   "version": "3.7.4"
  }
 },
 "nbformat": 4,
 "nbformat_minor": 2
}
