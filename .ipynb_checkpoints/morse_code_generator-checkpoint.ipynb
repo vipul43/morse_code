{
 "cells": [
  {
   "cell_type": "code",
   "execution_count": 81,
   "metadata": {},
   "outputs": [
    {
     "name": "stdout",
     "output_type": "stream",
     "text": [
      "node: H|crypt: ....\n",
      "node: S|crypt: ...\n",
      "node: V|crypt: ..._\n",
      "node: I|crypt: ..\n",
      "node: F|crypt: .._.\n",
      "node: U|crypt: .._\n",
      "node:  |crypt: \n",
      "node: E|crypt: .\n",
      "node: L|crypt: ._..\n",
      "node: R|crypt: ._.\n",
      "node:  |crypt: \n",
      "node: A|crypt: ._\n",
      "node: P|crypt: .__.\n",
      "node: W|crypt: .__\n",
      "node: J|crypt: .___\n",
      "node:  |crypt: \n",
      "node: B|crypt: _...\n",
      "node: D|crypt: _..\n",
      "node: X|crypt: _.._\n",
      "node: N|crypt: _.\n",
      "node: C|crypt: _._.\n",
      "node: K|crypt: _._\n",
      "node: Y|crypt: _.__\n",
      "node: T|crypt: _\n",
      "node: Z|crypt: __..\n",
      "node: G|crypt: __.\n",
      "node: Q|crypt: __._\n",
      "node: M|crypt: __\n",
      "node: O|crypt: ___\n"
     ]
    },
    {
     "ename": "AttributeError",
     "evalue": "'Tree' object has no attribute 'SearchTree'",
     "output_type": "error",
     "traceback": [
      "\u001b[0;31m---------------------------------------------------------------------------\u001b[0m",
      "\u001b[0;31mAttributeError\u001b[0m                            Traceback (most recent call last)",
      "\u001b[0;32m<ipython-input-81-f7edd221ee4c>\u001b[0m in \u001b[0;36m<module>\u001b[0;34m\u001b[0m\n\u001b[1;32m     34\u001b[0m \u001b[0mroot\u001b[0m\u001b[0;34m=\u001b[0m\u001b[0mcreate_tree\u001b[0m\u001b[0;34m(\u001b[0m\u001b[0mst\u001b[0m\u001b[0;34m,\u001b[0m \u001b[0mroot\u001b[0m\u001b[0;34m,\u001b[0m \u001b[0;36m0\u001b[0m\u001b[0;34m,\u001b[0m \u001b[0;36m29\u001b[0m\u001b[0;34m)\u001b[0m\u001b[0;34m\u001b[0m\u001b[0;34m\u001b[0m\u001b[0m\n\u001b[1;32m     35\u001b[0m \u001b[0mroot\u001b[0m\u001b[0;34m.\u001b[0m\u001b[0mPrintTree\u001b[0m\u001b[0;34m(\u001b[0m\u001b[0;34m)\u001b[0m\u001b[0;34m\u001b[0m\u001b[0;34m\u001b[0m\u001b[0m\n\u001b[0;32m---> 36\u001b[0;31m \u001b[0mroot\u001b[0m\u001b[0;34m.\u001b[0m\u001b[0mSearchTree\u001b[0m\u001b[0;34m(\u001b[0m\u001b[0;34m)\u001b[0m\u001b[0;34m\u001b[0m\u001b[0;34m\u001b[0m\u001b[0m\n\u001b[0m",
      "\u001b[0;31mAttributeError\u001b[0m: 'Tree' object has no attribute 'SearchTree'"
     ]
    }
   ],
   "source": [
    "#dot is '.'\n",
    "#dash is '_'\n",
    "\n",
    "class Tree():\n",
    "    def __init__(self, char, crypt):\n",
    "        self.char=char\n",
    "        self.crypt=crypt\n",
    "        self.left=None\n",
    "        self.right=None\n",
    "    def __str__(self):\n",
    "        return \"node: {}|crypt: {}\".format(self.char, self.crypt)\n",
    "    def PrintTree(self):\n",
    "        if self.left:\n",
    "            self.left.PrintTree()\n",
    "        print( \"node: {}|crypt: {}\".format(self.char, self.crypt)),\n",
    "        if self.right:\n",
    "            self.right.PrintTree()\n",
    "#level order creation of tree \n",
    "def create_tree(st, root, i, n):\n",
    "    if(i<n):\n",
    "        root=Tree(st[i], crypt[i])\n",
    "        root.char=st[i]\n",
    "        root.crypt=crypt[i]\n",
    "        root.left=create_tree(st, root.left, 2*i+1, n)\n",
    "        root.right=create_tree(st, root.right, 2*i+2, n)\n",
    "    return root\n",
    "st=' ETIANMSURWDKGOHVF L PJBXCYZQ'\n",
    "crypt=['',                                                                                           #level-1\n",
    "       '.','_',                                                                                      #level-2\n",
    "       '..','._','_.','__',                                                                          #level-3\n",
    "       '...','.._','._.','.__','_..','_._','__.','___',                                              #level-4\n",
    "       '....','..._','.._.','','._..','','.__.','.___','_...','_.._','_._.','_.__','__..','__._']    #level-5\n",
    "root=None\n",
    "root=create_tree(st, root, 0, 29)\n",
    "root.PrintTree()"
   ]
  },
  {
   "cell_type": "code",
   "execution_count": null,
   "metadata": {},
   "outputs": [],
   "source": []
  },
  {
   "cell_type": "code",
   "execution_count": null,
   "metadata": {},
   "outputs": [],
   "source": []
  }
 ],
 "metadata": {
  "kernelspec": {
   "display_name": "Python 3",
   "language": "python",
   "name": "python3"
  },
  "language_info": {
   "codemirror_mode": {
    "name": "ipython",
    "version": 3
   },
   "file_extension": ".py",
   "mimetype": "text/x-python",
   "name": "python",
   "nbconvert_exporter": "python",
   "pygments_lexer": "ipython3",
   "version": "3.7.4"
  }
 },
 "nbformat": 4,
 "nbformat_minor": 2
}
